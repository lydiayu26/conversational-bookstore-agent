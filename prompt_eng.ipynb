{
 "cells": [
  {
   "cell_type": "code",
   "execution_count": 20,
   "metadata": {},
   "outputs": [],
   "source": [
    "# from datetime import datetime\n",
    "# import time\n",
    "import streamlit as st\n",
    "from streamlit_chat import message\n",
    "# import pandas as pd\n",
    "# import numpy as np\n",
    "# import json\n",
    "import os\n",
    "from dotenv import load_dotenv\n",
    "import openai\n",
    "from langchain.chat_models import ChatOpenAI\n",
    "from langchain.embeddings import OpenAIEmbeddings\n",
    "from langchain.document_loaders import DirectoryLoader, PyPDFDirectoryLoader\n",
    "from langchain.document_loaders import TextLoader\n",
    "from langchain.text_splitter import TokenTextSplitter\n",
    "from langchain.vectorstores import FAISS\n",
    "from langchain.vectorstores import Chroma\n",
    "from langchain.chains import ConversationalRetrievalChain\n",
    "from langchain.prompts import PromptTemplate, MessagesPlaceholder\n",
    "from langchain.prompts.chat import (\n",
    "    ChatPromptTemplate,\n",
    "    SystemMessagePromptTemplate,\n",
    "    HumanMessagePromptTemplate,\n",
    ")\n",
    "from langchain_core.messages import HumanMessage\n"
   ]
  },
  {
   "cell_type": "code",
   "execution_count": 2,
   "metadata": {},
   "outputs": [],
   "source": [
    "# Load environment variables\n",
    "load_dotenv()\n",
    "openai.api_key = os.getenv(\"OPENAI_API_KEY\")"
   ]
  },
  {
   "cell_type": "code",
   "execution_count": 3,
   "metadata": {},
   "outputs": [
    {
     "name": "stderr",
     "output_type": "stream",
     "text": [
      "/Users/lydiayu/opt/anaconda3/envs/artisan-ai/lib/python3.12/site-packages/langchain_core/_api/deprecation.py:119: LangChainDeprecationWarning: The class `ChatOpenAI` was deprecated in LangChain 0.0.10 and will be removed in 0.2.0. An updated version of the class exists in the langchain-openai package and should be used instead. To use it run `pip install -U langchain-openai` and import as `from langchain_openai import ChatOpenAI`.\n",
      "  warn_deprecated(\n"
     ]
    }
   ],
   "source": [
    "llm = ChatOpenAI(model=\"gpt-3.5-turbo\", temperature=0)"
   ]
  },
  {
   "cell_type": "code",
   "execution_count": 4,
   "metadata": {},
   "outputs": [
    {
     "name": "stderr",
     "output_type": "stream",
     "text": [
      "/Users/lydiayu/opt/anaconda3/envs/artisan-ai/lib/python3.12/site-packages/langchain_core/_api/deprecation.py:119: LangChainDeprecationWarning: The class `OpenAIEmbeddings` was deprecated in LangChain 0.0.9 and will be removed in 0.2.0. An updated version of the class exists in the langchain-openai package and should be used instead. To use it run `pip install -U langchain-openai` and import as `from langchain_openai import OpenAIEmbeddings`.\n",
      "  warn_deprecated(\n"
     ]
    }
   ],
   "source": [
    "embeddings = OpenAIEmbeddings(model=\"text-embedding-ada-002\", chunk_size=1)"
   ]
  },
  {
   "cell_type": "code",
   "execution_count": 5,
   "metadata": {},
   "outputs": [],
   "source": [
    "pdf_loader = PyPDFDirectoryLoader('./books/')\n",
    "txt_loader = DirectoryLoader('./books/', glob=\"**/*.txt\", loader_cls=TextLoader)"
   ]
  },
  {
   "cell_type": "code",
   "execution_count": 6,
   "metadata": {},
   "outputs": [],
   "source": [
    "txts = txt_loader.load()"
   ]
  },
  {
   "cell_type": "code",
   "execution_count": 7,
   "metadata": {},
   "outputs": [
    {
     "data": {
      "text/plain": [
       "[Document(page_content='Shipping\\n- Orders more than $75 will be mailed for free!\\n- Orders over $20, that can be shipped in a single package, will be mailed via United Parcel Service (UPS) 3 Day Select® or United States Postal Service (USPS) Priority Mail.\\n- Orders under $20 will be mailed via USPS Media Mail® (delivery, 2 to 8 business days).\\n- We do not ship books outside the United States.\\n\\nOrder Status Descriptions\\nAwaiting Fulfillment:\\nThis is the initial state of your order. Your payment has cleared and you have been provided with an order number. Your order should not remain in this state for more than one business day.\\nAwaiting Shipment:\\nThe books in your order have been secured and are in the process of being mailed to you. At this stage we cannot refund an order unless the book(s) are returned to us.\\n\\nOrders placed before 1 p.m. will enter Awaiting Shipment status the same business day. Orders placed 1 p.m. will enter Awaiting Shipment status the following business day. Your order should not remain in this state for more than one business day.\\nShipped and Partially Shipped:\\nYour order been shipped, and you have been provided with your order’s tracking number(s).\\n\\nYou will get multiple tracking numbers if your order requires multiple shipments. We make every effort to ensure your order is mailed, in a single package, and within one business day of being placed, if submitted prior to 1 p.m.\\n\\nIt is up the customer to monitor their order’s shipping status once the tracking number has been provided. It is the customer’s responsibility to notify us if there is a substantial delay (greater than 2 weeks) in receiving their order. Orders not received, or damaged in transit, will be mailed again.\\nPending:\\nWe have emailed you a question about your order and are awaiting a response. For example, we may need a correction to an invalid mailing address. If an order is returned to us, we will put the order in a pending status until we hear from you.\\nRefunded & Partially Refunded:\\nWe refund orders in the manner payment was made. Refunds made after an order has shipped (even if we have not yet updated the order’s status as “Shipped”) will require that the book to be returned to us. the customer pays the shipping costs for returned books.\\n\\nRefund and Returns\\n- Requests for refunds during the Awaiting Fulfillment stage can be processed immediately.\\n- Orders in the Pending state for more than a week will be refunded.\\n- Orders in the Awaiting Shipment and Shipped may be refunded, but the books must be returned to us undamaged, in resalable condition, and shipped at your expense, before a refund can be processed.\\n- No orders will be refunded seven (7) days after they have been received (based upon tracking delivery date).', metadata={'source': 'books/store_policies.txt'})]"
      ]
     },
     "execution_count": 7,
     "metadata": {},
     "output_type": "execute_result"
    }
   ],
   "source": [
    "txts"
   ]
  },
  {
   "cell_type": "code",
   "execution_count": 8,
   "metadata": {},
   "outputs": [],
   "source": [
    "docs = pdf_loader.load()"
   ]
  },
  {
   "cell_type": "code",
   "execution_count": 9,
   "metadata": {},
   "outputs": [],
   "source": [
    "docs.extend(txts)"
   ]
  },
  {
   "cell_type": "code",
   "execution_count": 10,
   "metadata": {},
   "outputs": [
    {
     "data": {
      "text/plain": [
       "[Document(page_content='This is a sample document to\\nshowcase page-based formatting. It\\ncontains a chapter from a Wikibook\\ncalled Sensory Systems . None of the\\ncontent has been changed in this\\narticle, but some content has been\\nremo ved.Anat omy of the Somat osensor y System\\nFROM WIKIBOOKS1\\nOur somatosensor ysystem consists ofsensors intheskin\\nand sensors inour muscles, tendons, and joints. The re-\\nceptors intheskin, thesocalled cutaneous receptors, tell\\nusabout temperature (thermorec eptors ),pressure and sur-\\nfacetexture (mechano receptors ),and pain (nocic eptors ).\\nThe receptors inmuscles and joints provide information\\nabout muscle length, muscle tension, and joint angles.\\nCutaneous r ecept ors\\nSensor yinformation from Meissner corpuscles and rapidly\\nadap ting afferents leads toadjustment ofgrip forcewhen\\nobjec tsare lifted. These afferents respond with abrief\\nburst ofaction potentials when objec tsmoveasmall dis-\\ntanc eduring the early stages oflifting. Inresponse to\\nFigure 1:Receptors inthehu-\\nman skin: Mechanorec eptors can\\nbefreereceptors orencapsulated.\\nExamples forfree receptors are\\nthehair receptors attheroots of\\nhairs. Encapsulated receptors are\\nthePacinian corpuscles and the\\nreceptors intheglabrous (hair-\\nless) skin: Meissner corpuscles,\\nRuffini corpuscles and Merk el’s\\ndisks.Hairy skin Glabrous skin\\nEpidermis\\nDermis\\nPacinian\\ncorpusclePapillary Ridges\\nSepta\\nRuffini ’s\\n corpuscle\\nHair receptorMeissne r’s\\ncorpuscleSebaceous\\nglandFree nerve\\nendingMerkel ’s\\nreceptor\\n1The f ollowing descrip tion is based on lec ture no tes from Laszlo Zaborszky , from Rutgers Univ ersit y.\\n1', metadata={'source': 'books/somatosensory.pdf', 'page': 0}),\n",
       " Document(page_content='Figure 2: Mammalian muscle\\nspindle showing typicalposition\\ninamuscle (left), neuronal con-\\nnections inspinal cord (middle )\\nand expanded schematic (right).\\nThespindle isastretch receptor\\nwith itsown motor supply con-\\nsisting ofseveral intrafusal mus-\\nclefibres. Thesensory endings of\\naprimary (group Ia)afferent and\\nasecondary (group II)afferent\\ncoilaround the non-c ontractile\\ncentral portions oftheintrafusal\\nfibres.\\nrapidly adap ting afferent activit y,muscle forceincreases\\nrefle xivelyuntil thegripped objec tnolonger moves.Such\\narapid response toatactilestimulus isaclear indication\\noftherole play edbysomatosensor yneurons inmotorac-\\ntivit y.\\nThe slowly adap ting Merk el’sreceptors areresponsible\\nforform and texture perc eption. Aswould beexpec tedfor\\nreceptors mediating form perc eption, Merk el’sreceptors\\narepresent athigh densit yinthe digits and around the\\nmouth (50/mm² ofskin surfac e),atlowerdensit yinoth-\\nerglabrous surfac es,and atverylowdensit yinhairyskin.\\nThis inner vations densit yshrinks progressiv elywith the\\npassage oftime sothat bytheageof50,thedensit yinhu-\\nman digits isreduc edto10/mm². Unlik erapidly adap ting\\naxons, slowly adap ting fibers respond notonly totheini-\\ntialindentation ofskin, butalso tosustained indentation\\nup to se veral sec onds in duration.\\nActivation ofthe rapidly adap ting Pacinian corpuscles\\ngivesafeeling ofvibration, while the slowly adap ting\\nRuffini corpuscles respond tothe lataral movement or\\nstretching of skin.\\nNocicept ors\\nNocic eptors havefree nerveendings. Func tionally ,skin\\nnocic eptors areeither high-threshold mechanorec eptorsFrom Wikibooks\\n2', metadata={'source': 'books/somatosensory.pdf', 'page': 1}),\n",
       " Document(page_content='Rapidly adap ting Slowly adap ting\\nSurfac ereceptor/\\nsmall rec eptive\\nfieldHair rec eptor ,Meissner’s c orpuscle : De-\\ntect an insec t or a v ery fine vibration.\\nUsed f or rec ognizing te xture.Merk el’s rec eptor: Used f or spa-\\ntial details, e.g. a round surfac e\\nedge or “ an X” in brail.\\nDeep rec eptor /\\nlarge rec eptive\\nfieldPacinian c orpuscle : “A diffuse vibra-\\ntion” e.g. tapping with a pencil.Ruffini’s c orpuscle : “A skin\\nstretch” . Used f or joint position\\nin fingers.\\nTable 1\\nNotice how figure captions and\\nsidenotes are shown in the outside\\nmargin ( on the left or right, depending\\non whether the page is left or right).\\nAlso, figures are floated to the top/\\nbottom of the page. Wide content, lik e\\nthe table and Figure 3, intrude into the\\noutside margins.orpolymodal receptors .Polymodal receptors respond not\\nonly tointense mechanical stimuli, but also toheat and\\ntonoxious chemicals. These receptors respond tominute\\npunc tures ofthe epithelium, with aresponse magnitude\\nthat depends onthedegree oftissue deformation. Theyal-\\nsorespond totemperatures intherange of40–60°C, and\\nchange their response rates asalinear func tion ofwarm-\\ning(incontrast with thesaturating responses display edby\\nnon-no xious thermorec eptors at high temperatures).\\nPainsignals can beseparated into individual compo-\\nnents, corresponding todifferent types ofnervefibers\\nused fortransmit ting these signals. The rapidly transmit-\\nted signal, which often has high spatial resolution, is\\ncalled first pain orcutaneous pricking pain .Itiswelllocal-\\nizedand easily tolerated. The much slower,highly affec-\\ntivecomponent iscalled second pain orburning pain ;itis\\npoorly localiz edand poorly tolerated. The third ordeep\\npain ,arising from viscera, musculature and joints, isalso\\npoorly localiz ed,can bechronic and isoften associated\\nwith ref erred pain.\\nMuscle Spindles\\nScat tered throughout virtually everystriated muscle inthe\\nbody arelong, thin, stretch receptors called muscle spin-\\ndles. Theyarequite simple inprinciple, consisting ofafew\\nsmall muscle fibers with acapsule surrounding themiddle\\nthird ofthefibers. These fibers arecalled intrafusal fibers ,\\nincontrast totheordinar yextrafusal fibers .The ends ofthe\\nintrafusal fibers areattached toextrafusal fibers, sowhen-\\neverthemuscle isstretched, theintrafusal fibers arealsoAnatom y of the Somatosensory System\\n3', metadata={'source': 'books/somatosensory.pdf', 'page': 2}),\n",
       " Document(page_content='Force\\ncontrol\\nsignal\\nDriving\\nsignal\\nLength\\ncontrol\\nsignalLoadExternal\\nforces\\nTendon\\norgansMuscle forceMuscle\\nlengthForce feedback\\nLength &\\nvelocity\\nfeedbackForce (Golgi tendon organ)\\nSpindles\\nGamma biasLength (secondary muscle-spindel afferents)\\nLength error (primary muscle-spindel afferents)\\nVelocity (primary muscle-spindel afferents)MuscleInter-\\nneurons\\nFigure 3:Feedback loops forproprioc eptiv esignals fortheperception and control oflimb move-\\nments. A rrows indic ate ex citatory c onnections; filled circles inhibitory c onnections.\\nFor more e xamples of how to use\\nHTML and CSS for paper-based\\npublishing, see css4.pub .stretched. The central region ofeach intrafusal fiber has\\nfewmyofilaments and isnon-c ontrac tile, butitdoes have\\none ormore sensor yendings applied toit.When themus-\\ncleisstretched, thecentral part oftheintrafusal fiber is\\nstretched and each sensor y ending fires impulses.\\nMuscle spindles also receiveamotorinner vation. The\\nlarge motorneurons that supply extrafusal muscle fibers\\narecalled alpha motor neurons ,while thesmaller ones sup-\\nplying the contrac tile portions ofintrafusal fibers are\\ncalled gamma neurons .Gamma motorneurons can regu-\\nlate thesensitivit yofthemuscle spindle sothat this sensi-\\ntivit y can be maintained at any giv en muscle length.\\nJoint r ecept ors\\nThe joint receptors arelow-threshold mechanorec eptors\\nand havebeen divided into fourgroups. Theysignal differ-\\nentcharac teristics ofjoint func tion (position, movements,\\ndirec tion and speed ofmovements). The free receptors or\\ntype 4 joint rec eptors are nocic eptors.From Wikibooks\\n4', metadata={'source': 'books/somatosensory.pdf', 'page': 3}),\n",
       " Document(page_content='Journalof Machine LearningResearch 12(2011)2825-2830 Su bmitted 3/11;Revised 8/11;Published 10/11\\nScikit-learn: MachineLearning in Python\\nFabianPedregosa FABIAN.PEDREGOSA @INRIA.FR\\nGa¨elVaroquaux GAEL.VAROQUAUX @NORMALESUP .ORG\\nAlexandre Gramfort ALEXANDRE .GRAMFORT @INRIA.FR\\nVincent Michel VINCENT .MICHEL@LOGILAB .FR\\nBertrand Thirion BERTRAND .THIRION@INRIA.FR\\nParietal, INRIASaclay\\nNeurospin, B ˆat 145, CEASaclay\\n91191 Gif surYvette –France\\nOlivierGrisel OLIVIER.GRISEL@ENSTA.FR\\nNuxeo\\n20 rueSoleillet\\n75 020 Paris –France\\nMathieu Blondel MBLONDEL @AI.CS.KOBE-U.AC.JP\\nKobe University\\n1-1Rokkodai, Nada\\nKobe 657-8501 –Japan\\nPeterPrettenhofer PETER.PRETTENHOFER @GMAIL.COM\\nBauhaus-Universit ¨at Weimar\\nBauhausstr. 11\\n99421 Weimar –Germany\\nRon Weiss RONWEISS @GMAIL.COM\\nGoogle Inc\\n76 NinthAvenue\\nNew York, NY 10011 –USA\\nVincent Dubourg VINCENT .DUBOURG @GMAIL.COM\\nClermont Universit ´e, IFMA, EA3867, LaMI\\nBP10448, 63000 Clermont-Ferrand –France\\nJakeVanderplas VANDERPLAS @ASTRO.WASHINGTON .EDU\\nAstronomy Department\\nUniversityof Washington, Box 351580\\nSeattle, WA98195 – USA\\nAlexandre Passos ALEXANDRE .TP@GMAIL.COM\\nIESL Lab\\nUMass Amherst\\nAmherst MA01002 – USA\\nDavid Cournapeau COURNAPE @GMAIL.COM\\nEnthought\\n21 J.J. Thompson Avenue\\nCambridge, CB3 0FA–UK\\nc⃝2011Fabian Pedregosa, Ga ¨el Varoquaux, Alexandre Gramfort, Vincent Michel, Bertrand Thirion, Olivier Grisel, Mathieu Blondel,\\nPeter Prettenhofer, Ron Weiss, Vincent Dubourg, Jake Vande rplas, Alexandre Passos, David Cournapeau, Matthieu Bruch er,\\nMatthieu Perrot and ´EdouardDuchesnay', metadata={'source': 'books/scikit-learn_ml.pdf', 'page': 0}),\n",
       " Document(page_content='PEDREGOSA , VAROQUAUX , GRAMFORT ET AL .\\nMatthieu Brucher MATTHIEU .BRUCHER @GMAIL.COM\\nTotal SA, CSTJF\\navenue Larribau\\n64000 Pau –France\\nMatthieu Perrot MATTHIEU .PERROT@CEA.FR\\n´Edouard Duchesnay EDOUARD .DUCHESNAY @CEA.FR\\nLNAO\\nNeurospin, B ˆat 145, CEASaclay\\n91191 Gif surYvette –France\\nEditor:Mikio Braun\\nAbstract\\nScikit-learn is a Python module integrating a wide range of state-of-the- art machine learning algo-\\nrithms for medium-scale supervised and unsupervised probl ems. This package focuses on bring-\\ning machine learning to non-specialists using a general-pu rpose high-level language. Emphasis is\\nput on ease of use, performance, documentation, and API cons istency. It has minimal dependen-\\ncies and is distributed under the simpliﬁed BSD license, enc ouraging its use in both academic\\nand commercial settings. Source code, binaries, and docume ntation can be downloaded from\\nhttp://scikit-learn.sourceforge.net .\\nKeywords: Python, supervised learning, unsupervised learning, mode l selection\\n1. Introduction\\nThe Python programming language is establishing itself as one of the most popu lar languages for\\nscientiﬁc computing. Thanks to its high-level interactive nature and its maturing ecosystem of sci-\\nentiﬁclibraries,itisanappealingchoiceforalgorithmicdevelopmentandexp loratorydataanalysis\\n(Dubois, 2007; Milmann and Avaizis, 2011). Yet, as a general-purpose language, it is increasingly\\nusednotonlyinacademic settingsbutalsoinindustry.\\nScikit-learn harnessesthisrichenvironmenttoprovidestate-of-the-artimplementations ofmany\\nwell known machine learning algorithms, while maintaining an easy-to-use interf ace tightly inte-\\ngrated with the Python language. This answers the growing need for statistic al data analysis by\\nnon-specialists in the software and web industries, as well as in ﬁelds outsid e of computer-science,\\nsuch as biology or physics. Scikit-learn differs from other machine learning toolboxes in Python\\nfor various reasons: i)it is distributed under the BSD license ii)it incorporates compiled code for\\nefﬁciency, unlike MDP (Zito et al., 2008) and pybrain (Schaul et al., 201 0),iii)it depends only on\\nnumpyandscipytofacilitateeasydistribution,unlikepymvpa(Hankeetal.,200 9)thathasoptional\\ndependencies such as R and shogun, and iv)it focuses on imperative programming, unlike pybrain\\nwhich uses a data-ﬂow framework. While the package is mostly written in Python , it incorporates\\ntheC++librariesLibSVM(ChangandLin,2001)andLibLinear(Fanetal., 2008)thatprovideref-\\nerence implementations of SVMs and generalized linear models with compatible licen ses. Binary\\npackages are available on a rich set of platforms including Windows and an y POSIX platforms.\\n2826', metadata={'source': 'books/scikit-learn_ml.pdf', 'page': 1}),\n",
       " Document(page_content='SCIKIT-LEARN: MACHINELEARNING IN PYTHON\\nFurthermore, thanks to its liberal license, it has been widely distributed as pa rt of major free soft-\\nware distributions such as Ubuntu, Debian, Mandriva, NetBSD and Macp orts and in commercial\\ndistributionssuchas the“EnthoughtPythonDistribution”.\\n2. ProjectVision\\nCode quality. Rather than providing as many features as possible, the project’s goal ha s been to\\nprovide solid implementations. Code quality is ensured with unit tests—as of relea se 0.8, test\\ncoverage is 81%—and the use of static analysis tools such as pyflakes andpep8. Finally, we\\nstrive to use consistent naming for the functions and parameters used thro ughout a strict adherence\\ntothePythoncoding guidelines andnumpystyledocumentation.\\nBSD licensing. Most of the Python ecosystem is licensed with non-copyleft licenses. While such\\npolicyisbeneﬁcialforadoptionofthesetoolsbycommercialprojects,itdoe simposesomerestric-\\ntions: we areunabletousesomeexistingscientiﬁccode, suchastheGSL.\\nBare-bone design and API. To lower the barrier of entry, we avoid framework code and keep the\\nnumber of differentobjects toaminimum,relyingonnumpyarraysfor datacon tainers.\\nCommunity-drivendevelopment. Webaseourdevelopmentoncollaborativetoolssuchasgit,github\\nandpublic mailinglists. Externalcontributionsarewelcome andencouraged.\\nDocumentation. Scikit-learn provides a ∼300 page user guide including narrative documentation,\\nclass references, a tutorial, installation instructions, as well as more than 60 examples, some fea-\\nturingreal-worldapplications. Wetrytominimizetheuseofmachine-learningjarg on,whilemain-\\ntainingprecisionwithregardstothealgorithms employed.\\n3. UnderlyingTechnologies\\nNumpy:the base data structure used for data and model parameters. Input data is presented as\\nnumpy arrays, thus integrating seamlessly with other scientiﬁc Python libraries . Numpy’s view-\\nbased memory model limits copies, even when binding with compiled code (Van der Walt et al.,\\n2011). Italsoprovidesbasicarithmeticoperations.\\nScipy:efﬁcient algorithms for linear algebra, sparse matrix representation, spe cial functions and\\nbasicstatisticalfunctions. ScipyhasbindingsformanyFortran-basedstandardnumericalpackages,\\nsuch as LAPACK. This is important for ease of installation and portability, as p roviding libraries\\naroundFortrancode canprovechallenging onvariousplatforms.\\nCython:a language for combining C in Python. Cython makes it easy to reach the perf ormance\\nof compiled languages with Python-like syntax and high-level operations. I t is also used to bind\\ncompiledlibraries,eliminatingtheboilerplatecode of Python/Cextensions.\\n4. Code Design\\nObjects speciﬁed by interface, not by inheritance. To facilitate the use of external objects with\\nscikit-learn , inheritance is not enforced; instead, code conventions provide a con sistent interface.\\nThecentralobjectisan estimator ,thatimplementsafitmethod,acceptingasargumentsaninput\\ndataarrayand,optionally,anarrayoflabelsforsupervisedproblems. Supervisedestimators,suchas\\nSVM classiﬁers, can implement a predict method. Some estimators, that we call transformers ,\\nfor example, PCA, implement a transform method, returning modiﬁed input data. Estimators\\n2827', metadata={'source': 'books/scikit-learn_ml.pdf', 'page': 2}),\n",
       " Document(page_content='PEDREGOSA , VAROQUAUX , GRAMFORT ET AL .\\nscikit-learn mlpy pybrain pymvpa mdp shogun\\nSupport Vector Classiﬁcation 5.2 9.47 17.5 11.52 40.48 5.63\\nLasso(LARS) 1.17 105.3 - 37.35 - -\\nElasticNet 0.52 73.7 - 1.44 - -\\nk-Nearest Neighbors 0.57 1.41 - 0.56 0.58 1.36\\nPCA (9components) 0.18 - - 8.93 0.47 0.33\\nk-Means (9clusters) 1.34 0.79 ⋆ - 35.75 0.68\\nLicense BSD GPL BSD BSD BSD GPL\\n-: Not implemented. ⋆: Does not converge within1hour.\\nTable1: Time in seconds on the Madelon data set for various machine learnin g libraries exposed\\nin Python: MLPy (Albanese et al., 2008), PyBrain (Schaul et al., 2010) , pymvpa (Hanke\\net al., 2009), MDP (Zito et al., 2008) and Shogun (Sonnenburg et al., 20 10). For more\\nbenchmarks seehttp://github.com/scikit-learn .\\nmay also provide a scoremethod, which is an increasing evaluation of goodness of ﬁt: a log-\\nlikelihood, or a negated loss function. The other important object is the cross-validation iterator ,\\nwhich provides pairs of train and test indices to split input data, for example K-fold, leave one out,\\nor stratiﬁedcross-validation.\\nModel selection. Scikit-learn can evaluate an estimator’s performance or select parameters using\\ncross-validation, optionally distributing the computation to several cores. Th is is accomplished by\\nwrapping an estimator in a GridSearchCV object, where the “CV” stands for “cross-validated”.\\nDuring the call tofit, it selects the parameters on a speciﬁed parameter grid, maximizing a score\\n(thescoremethodoftheunderlyingestimator). predict,score,ortransform arethendelegated\\ntothetunedestimator. Thisobjectcanthereforebeusedtransparentlyasa nyotherestimator. Cross\\nvalidation can be made more efﬁcient for certain estimators by exploiting speciﬁ c properties, such\\nas warm restarts or regularization paths (Friedman et al., 2010). This is su pported through special\\nobjects, such as theLassoCV. Finally, aPipeline object can combine several transformers and\\nan estimator to create a combined estimator to, for example, apply dimension reduc tion before\\nﬁtting. It behaves as a standard estimator, and GridSearchCV therefore tune the parameters of all\\nsteps.\\n5. High-level yetEfﬁcient: SomeTradeOffs\\nWhilescikit-learn focuses on ease of use, and is mostly written in a high level language, care has\\nbeen taken to maximize computational efﬁciency. In Table 1, we compare compu tation time for a\\nfew algorithms implemented in the major machine learning toolkits accessible in Python. We use\\nthe Madelon data set (Guyon et al., 2004), 4400 instances and 500 attribu tes, The data set is quite\\nlarge,butsmallenoughfor mostalgorithms torun.\\nSVM.Whileallofthepackagescomparedcalllibsvminthebackground,theperf ormanceof scikit-\\nlearncan be explained by two factors. First, our bindings avoid memory copies and have up to\\n40% less overhead than the original libsvm Python bindings. Second, we p atch libsvm to improve\\nefﬁciency on dense data, use a smaller memory footprint, and better use memor y alignment and\\npipelining capabilities of modern processors. This patched version also pr ovides unique features,\\nsuchas settingweights forindividualsamples.\\n2828', metadata={'source': 'books/scikit-learn_ml.pdf', 'page': 3}),\n",
       " Document(page_content='SCIKIT-LEARN: MACHINELEARNING IN PYTHON\\nLARS.Iteratively reﬁning the residuals instead of recomputing them gives perfo rmance gains of\\n2–10timesoverthereferenceRimplementation(HastieandEfron,2004). Pymvpausesthisimple-\\nmentationvia theRpyR bindings andpays aheavypricetomemorycopies.\\nElasticNet. Webenchmarkedthe scikit-learn coordinatedescentimplementationsofElasticNet. It\\nachieves the same order of performance as the highly optimized Fortran ver sionglmnet(Friedman\\net al., 2010) on medium-scale problems, but performance on very large pr oblems is limited since\\nwedonot usethe KKT conditionstodeﬁne anactiveset.\\nkNN.The k-nearest neighbors classiﬁer implementation constructs a ball tree (O mohundro, 1989)\\nof thesamples,butuses amoreefﬁcientbruteforcesearchinlargedimens ions.\\nPCA.For medium to large data sets, scikit-learn provides an implementation of a truncated PCA\\nbasedonrandomprojections (Rokhlinetal.,2009).\\nk-means. scikit-learn ’s k-means algorithm is implemented in pure Python. Its performance is lim-\\nitedbythe factthat numpy’sarrayoperations takemultiplepassesover data .\\n6. Conclusion\\nScikit-learn exposes a wide variety of machine learning algorithms, both supervised and unsuper-\\nvised, using a consistent, task-oriented interface, thus enabling easy co mparison of methods for a\\ngiven application. Since it relies on the scientiﬁc Python ecosystem, it can ea sily be integrated into\\napplications outside the traditional range of statistical data analysis. Importan tly, the algorithms,\\nimplemented in a high-level language, can be used as building blocks for app roaches speciﬁc to\\na use case, for example, in medical imaging (Michel et al., 2011). Future wo rk includes online\\nlearning,toscaletolargedata sets.\\nReferences\\nD. Albanese, G. Merler, S.and Jurman, and R. Visintainer. MLPy: high-p erformance python pack-\\nage forpredictivemodeling. In NIPS,MLOSSWorkshop ,2008.\\nC.C. Chang and C.J. Lin. LIBSVM: a library for support vector machines .http://www.csie.\\nntu.edu.tw/cjlin/libsvm , 2001.\\nP.F. Dubois,editor. Python: BatteriesIncluded ,volume 9of Computing in Science &Engineering .\\nIEEE/AIP,May2007.\\nR.E.Fan,K.W.Chang,C.J.Hsieh,X.R.Wang,andC.J.Lin. LIBLINEAR: alibraryforlargelinear\\nclassiﬁcation. TheJournalofMachineLearningResearch ,9:1871–1874, 2008.\\nJ. Friedman, T. Hastie, and R. Tibshirani. Regularization paths for gener alized linear models via\\ncoordinatedescent. JournalofStatisticalSoftware , 33(1):1,2010.\\nI Guyon, S. R. Gunn, A. Ben-Hur, and G. Dror. Result analysis of the NIPS 2003 feature selection\\nchallenge, 2004.\\nM. Hanke, Y.O. Halchenko, P.B. Sederberg, S.J. Hanson, J.V. Haxby , and S. Pollmann. PyMVPA:\\nA Python toolbox for multivariate pattern analysis of fMRI data. Neuroinformatics , 7(1):37–53,\\n2009.\\n2829', metadata={'source': 'books/scikit-learn_ml.pdf', 'page': 4}),\n",
       " Document(page_content='PEDREGOSA , VAROQUAUX , GRAMFORT ET AL .\\nT. Hastie and B. Efron. Least Angle Regression, Lasso and Forward Stagewise.http://cran.\\nr-project.org/web/packages/lars/lars.pdf , 2004.\\nV.Michel,A.Gramfort,G.Varoquaux,E.Eger,C.Keribin,andB.Thir ion. Asupervisedclustering\\napproach for fMRI-based inference of brain states. Patt Rec, page epub ahead of print, April\\n2011. doi: 10.1016/j.patcog.2011.04.006.\\nK.J. Milmann and M. Avaizis, editors. Scientiﬁc Python , volume 11 of Computing in Science &\\nEngineering . IEEE/AIP,March2011.\\nS.M.Omohundro. Fiveballtreeconstructionalgorithms. ICSI Technical Re portTR-89-063,1989.\\nV. Rokhlin, A. Szlam, and M. Tygert. A randomized algorithm for principal c omponent analysis.\\nSIAMJournalonMatrixAnalysisandApplications ,31(3):1100–1124,2009.\\nT. Schaul, J. Bayer, D. Wierstra, Y. Sun, M. Felder, F. Sehnke, T. R ¨uckstieß, and J. Schmidhuber.\\nPyBrain. TheJournalofMachineLearningResearch ,11:743–746,2010.\\nS.Sonnenburg,G.R ¨atsch,S.Henschel,C.Widmer,J.Behr,A.Zien,F.deBona,A.Binder ,C.Gehl,\\nandV.Franc. TheSHOGUNmachinelearningtoolbox. JournalofMachineLearningResearch ,\\n11:1799–1802, 2010.\\nS. Van der Walt, S.C Colbert, and G. Varoquaux. The NumPy array: A stru cture for efﬁcient\\nnumericalcomputation. Computing inScience andEngineering ,11,2011.\\nT.Zito,N.Wilbert,L.Wiskott,andP.Berkes. Modulartoolkitfordataproc essing(MDP):APython\\ndata processingframework. FrontiersinNeuroinformatics ,2, 2008.\\n2830', metadata={'source': 'books/scikit-learn_ml.pdf', 'page': 5}),\n",
       " Document(page_content='Shipping\\n- Orders more than $75 will be mailed for free!\\n- Orders over $20, that can be shipped in a single package, will be mailed via United Parcel Service (UPS) 3 Day Select® or United States Postal Service (USPS) Priority Mail.\\n- Orders under $20 will be mailed via USPS Media Mail® (delivery, 2 to 8 business days).\\n- We do not ship books outside the United States.\\n\\nOrder Status Descriptions\\nAwaiting Fulfillment:\\nThis is the initial state of your order. Your payment has cleared and you have been provided with an order number. Your order should not remain in this state for more than one business day.\\nAwaiting Shipment:\\nThe books in your order have been secured and are in the process of being mailed to you. At this stage we cannot refund an order unless the book(s) are returned to us.\\n\\nOrders placed before 1 p.m. will enter Awaiting Shipment status the same business day. Orders placed 1 p.m. will enter Awaiting Shipment status the following business day. Your order should not remain in this state for more than one business day.\\nShipped and Partially Shipped:\\nYour order been shipped, and you have been provided with your order’s tracking number(s).\\n\\nYou will get multiple tracking numbers if your order requires multiple shipments. We make every effort to ensure your order is mailed, in a single package, and within one business day of being placed, if submitted prior to 1 p.m.\\n\\nIt is up the customer to monitor their order’s shipping status once the tracking number has been provided. It is the customer’s responsibility to notify us if there is a substantial delay (greater than 2 weeks) in receiving their order. Orders not received, or damaged in transit, will be mailed again.\\nPending:\\nWe have emailed you a question about your order and are awaiting a response. For example, we may need a correction to an invalid mailing address. If an order is returned to us, we will put the order in a pending status until we hear from you.\\nRefunded & Partially Refunded:\\nWe refund orders in the manner payment was made. Refunds made after an order has shipped (even if we have not yet updated the order’s status as “Shipped”) will require that the book to be returned to us. the customer pays the shipping costs for returned books.\\n\\nRefund and Returns\\n- Requests for refunds during the Awaiting Fulfillment stage can be processed immediately.\\n- Orders in the Pending state for more than a week will be refunded.\\n- Orders in the Awaiting Shipment and Shipped may be refunded, but the books must be returned to us undamaged, in resalable condition, and shipped at your expense, before a refund can be processed.\\n- No orders will be refunded seven (7) days after they have been received (based upon tracking delivery date).', metadata={'source': 'books/store_policies.txt'})]"
      ]
     },
     "execution_count": 10,
     "metadata": {},
     "output_type": "execute_result"
    }
   ],
   "source": [
    "docs"
   ]
  },
  {
   "cell_type": "code",
   "execution_count": 11,
   "metadata": {},
   "outputs": [],
   "source": [
    "# split docs into chunks of 1000 tokens\n",
    "text_splitter = TokenTextSplitter(chunk_size=1000, chunk_overlap=0)\n",
    "docs = text_splitter.split_documents(docs)"
   ]
  },
  {
   "cell_type": "code",
   "execution_count": 12,
   "metadata": {},
   "outputs": [],
   "source": [
    "# ingest docs into faiss to efficiently query embeddings\n",
    "db = FAISS.from_documents(docs, embeddings)"
   ]
  },
  {
   "cell_type": "code",
   "execution_count": 13,
   "metadata": {},
   "outputs": [
    {
     "data": {
      "text/plain": [
       "<langchain_community.vectorstores.faiss.FAISS at 0x12af89190>"
      ]
     },
     "execution_count": 13,
     "metadata": {},
     "output_type": "execute_result"
    }
   ],
   "source": [
    "db"
   ]
  },
  {
   "cell_type": "code",
   "execution_count": 14,
   "metadata": {},
   "outputs": [],
   "source": [
    "from langchain.chains import create_retrieval_chain\n",
    "from langchain.chains.combine_documents import create_stuff_documents_chain\n"
   ]
  },
  {
   "cell_type": "code",
   "execution_count": 17,
   "metadata": {},
   "outputs": [],
   "source": [
    "from langchain.chains import create_history_aware_retriever\n",
    "\n",
    "contextualize_q_system_prompt = \"\"\"Given a chat history and the latest user question \\\n",
    "which might reference context in the chat history, formulate a standalone question \\\n",
    "which can be understood without the chat history. Do NOT answer the question, \\\n",
    "just reformulate it if needed and otherwise return it as is.\"\"\"\n",
    "contextualize_q_prompt = ChatPromptTemplate.from_messages(\n",
    "    [\n",
    "        (\"system\", contextualize_q_system_prompt),\n",
    "        MessagesPlaceholder(\"chat_history\"),\n",
    "        (\"human\", \"{input}\"),\n",
    "    ]\n",
    ")\n",
    "history_aware_retriever = create_history_aware_retriever(\n",
    "    llm, db.as_retriever(), contextualize_q_prompt\n",
    ")"
   ]
  },
  {
   "cell_type": "code",
   "execution_count": 18,
   "metadata": {},
   "outputs": [],
   "source": [
    "\n",
    "qa_system_prompt = \"\"\"You are an assistant for question-answering tasks. \\\n",
    "Use the following pieces of retrieved context to answer the question. \\\n",
    "If you don't know the answer, just say that you don't know. \\\n",
    "Use three sentences maximum and keep the answer concise.\\\n",
    "\n",
    "{context}\"\"\"\n",
    "qa_prompt = ChatPromptTemplate.from_messages(\n",
    "    [\n",
    "        (\"system\", qa_system_prompt),\n",
    "        MessagesPlaceholder(\"chat_history\"),\n",
    "        (\"human\", \"{input}\"),\n",
    "    ]\n",
    ")\n",
    "\n",
    "\n",
    "question_answer_chain = create_stuff_documents_chain(llm, qa_prompt)\n",
    "\n",
    "rag_chain = create_retrieval_chain(history_aware_retriever, question_answer_chain)"
   ]
  },
  {
   "cell_type": "code",
   "execution_count": 22,
   "metadata": {},
   "outputs": [],
   "source": [
    "chat_history = []"
   ]
  },
  {
   "cell_type": "code",
   "execution_count": 17,
   "metadata": {},
   "outputs": [],
   "source": [
    "user_query = \"find me a book about machine learning.\""
   ]
  },
  {
   "cell_type": "code",
   "execution_count": 23,
   "metadata": {},
   "outputs": [],
   "source": [
    "question = \"find me a book about machine learning.\"\n",
    "ai_msg_1 = rag_chain.invoke({\"input\": question, \"chat_history\": chat_history})\n",
    "chat_history.extend([HumanMessage(content=question), ai_msg_1[\"answer\"]])"
   ]
  },
  {
   "cell_type": "code",
   "execution_count": null,
   "metadata": {},
   "outputs": [],
   "source": []
  }
 ],
 "metadata": {
  "kernelspec": {
   "display_name": "artisan-ai",
   "language": "python",
   "name": "python3"
  },
  "language_info": {
   "codemirror_mode": {
    "name": "ipython",
    "version": 3
   },
   "file_extension": ".py",
   "mimetype": "text/x-python",
   "name": "python",
   "nbconvert_exporter": "python",
   "pygments_lexer": "ipython3",
   "version": "3.12.3"
  }
 },
 "nbformat": 4,
 "nbformat_minor": 2
}
